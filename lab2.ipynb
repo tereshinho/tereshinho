{
 "cells": [
  {
   "cell_type": "markdown",
   "id": "2f63b141",
   "metadata": {},
   "source": [
    "# Лабораторна робота 2\n",
    "### Виконав Терещенко Микола ФБ-33\n",
    "<b> Мета роботи:</b> ознайомитися з основними кроками по роботі з даними – workflow від постановки задачі до написання пояснювальної записки, зрозуміти постановку задачі та природу даних, над якими виконується аналітичні операції\n",
    "\n",
    "1. Для кожної із адміністративних одиниць України завантажити текстові структуровані файли, що містять значення VHI-індексу. Ця процедура має бути автоматизована, параметром процедури має бути індекс (номер) області. При зберіганні файлу до його імені потрібно додати дату та час завантаження;"
   ]
  },
  {
   "cell_type": "code",
   "execution_count": 3,
   "id": "934f976c",
   "metadata": {},
   "outputs": [],
   "source": [
    "import os\n",
    "import pandas as pd\n",
    "import urllib.request\n",
    "from datetime import datetime"
   ]
  },
  {
   "cell_type": "code",
   "execution_count": 4,
   "id": "f1f5fecb",
   "metadata": {},
   "outputs": [
    {
     "name": "stdout",
     "output_type": "stream",
     "text": [
      "VHI was downloaded in /home/kali/Downloads/csv/vhi_id_1_2025-03-24_09-47.csv\n",
      "VHI was downloaded in /home/kali/Downloads/csv/vhi_id_2_2025-03-24_09-47.csv\n",
      "VHI was downloaded in /home/kali/Downloads/csv/vhi_id_3_2025-03-24_09-47.csv\n",
      "VHI was downloaded in /home/kali/Downloads/csv/vhi_id_4_2025-03-24_09-47.csv\n",
      "VHI was downloaded in /home/kali/Downloads/csv/vhi_id_5_2025-03-24_09-47.csv\n",
      "VHI was downloaded in /home/kali/Downloads/csv/vhi_id_6_2025-03-24_09-47.csv\n",
      "VHI was downloaded in /home/kali/Downloads/csv/vhi_id_7_2025-03-24_09-47.csv\n",
      "VHI was downloaded in /home/kali/Downloads/csv/vhi_id_8_2025-03-24_09-48.csv\n",
      "VHI was downloaded in /home/kali/Downloads/csv/vhi_id_9_2025-03-24_09-48.csv\n",
      "VHI was downloaded in /home/kali/Downloads/csv/vhi_id_10_2025-03-24_09-48.csv\n",
      "VHI was downloaded in /home/kali/Downloads/csv/vhi_id_11_2025-03-24_09-48.csv\n",
      "VHI was downloaded in /home/kali/Downloads/csv/vhi_id_12_2025-03-24_09-48.csv\n",
      "VHI was downloaded in /home/kali/Downloads/csv/vhi_id_13_2025-03-24_09-48.csv\n",
      "VHI was downloaded in /home/kali/Downloads/csv/vhi_id_14_2025-03-24_09-48.csv\n",
      "VHI was downloaded in /home/kali/Downloads/csv/vhi_id_15_2025-03-24_09-48.csv\n",
      "VHI was downloaded in /home/kali/Downloads/csv/vhi_id_16_2025-03-24_09-48.csv\n",
      "VHI was downloaded in /home/kali/Downloads/csv/vhi_id_17_2025-03-24_09-48.csv\n",
      "VHI was downloaded in /home/kali/Downloads/csv/vhi_id_18_2025-03-24_09-48.csv\n",
      "VHI was downloaded in /home/kali/Downloads/csv/vhi_id_19_2025-03-24_09-48.csv\n",
      "VHI was downloaded in /home/kali/Downloads/csv/vhi_id_20_2025-03-24_09-48.csv\n",
      "VHI was downloaded in /home/kali/Downloads/csv/vhi_id_21_2025-03-24_09-49.csv\n",
      "VHI was downloaded in /home/kali/Downloads/csv/vhi_id_22_2025-03-24_09-49.csv\n",
      "VHI was downloaded in /home/kali/Downloads/csv/vhi_id_23_2025-03-24_09-49.csv\n",
      "VHI was downloaded in /home/kali/Downloads/csv/vhi_id_24_2025-03-24_09-49.csv\n",
      "VHI was downloaded in /home/kali/Downloads/csv/vhi_id_25_2025-03-24_09-49.csv\n",
      "VHI was downloaded in /home/kali/Downloads/csv/vhi_id_26_2025-03-24_09-49.csv\n",
      "VHI was downloaded in /home/kali/Downloads/csv/vhi_id_27_2025-03-24_09-49.csv\n"
     ]
    }
   ],
   "source": [
    "path = '/home/kali/Downloads/csv'\n",
    "def get_data(province_id):\n",
    "    url = f\"https://www.star.nesdis.noaa.gov/smcd/emb/vci/VH/get_TS_admin.php?country=UKR&provinceID={province_id}&year1=1981&year2=2024&type=Mean\"\n",
    "    vhi_url = urllib.request.urlopen(url)\n",
    "\n",
    "    now = datetime.now().strftime('%Y-%m-%d_%H-%M')\n",
    "    # path = '/home/kali/Downloads/csv'\n",
    "    filename = f'vhi_id_{province_id}_{now}.csv'\n",
    "    filepath = f'{path}/{filename}'\n",
    "    with open(filepath, 'wb') as out:\n",
    "        out.write(vhi_url.read())\n",
    "    print(f\"VHI was downloaded in {filepath}\")\n",
    "\n",
    "    return\n",
    "\n",
    "for i in range(1,28):\n",
    "    get_data(i)"
   ]
  },
  {
   "cell_type": "code",
   "execution_count": 5,
   "id": "95962eff",
   "metadata": {},
   "outputs": [],
   "source": [
    "state_id_name = {\n",
    "        1: 'Vinnytsia', 13: 'Mykolaiv',\n",
    "        2: 'Volyn', 14: 'Odesa',\n",
    "        3: 'Dnipropetrovska', 15: 'Poltavska',\n",
    "        4: 'Donetsk', 16: 'Rivne',\n",
    "        5: 'Zhytomyr', 17: 'Sumy',\n",
    "        6: 'Zakarpattia', 18: 'Ternopil',\n",
    "        7: 'Zaporizhzhya', 19: 'Kharkiv',\n",
    "        8: 'Ivano-Frankivsk', 20: 'Kherson',\n",
    "        9: 'Kyiv', 21: 'Khmelnytsky',\n",
    "        10: 'Kirovohrad', 22: 'Cherkasy',\n",
    "        11: 'Luhansk', 23: 'Chernivtsi',\n",
    "        12: 'Lviv', 24: 'Chernihiv',\n",
    "        25: 'Republic of Crimea'\n",
    "}"
   ]
  },
  {
   "cell_type": "markdown",
   "id": "eb013f95",
   "metadata": {},
   "source": [
    "2. Зчитати завантажені текстові файли у фрейм (детальніше про роботу із фреймами буде розказано у подальших лабораторних роботах). Імена стовбців фрейму мають бути змістовними та легкими для сприйняття (не повинно бути спеціалізованих символів, пробілів тощо). Ця задача має бути реалізована у вигляді окремої процедури, яка на вхід приймає шлях до директорії, в якій зберігаються файли;"
   ]
  },
  {
   "cell_type": "code",
   "execution_count": 6,
   "id": "962b110a",
   "metadata": {},
   "outputs": [
    {
     "name": "stdout",
     "output_type": "stream",
     "text": [
      "       Year  Week    SMN     SMT    VCI    TCI    VHI  area\n",
      "0      1982   1.0  0.058  254.19  24.78  81.74  53.26     1\n",
      "1      1982   2.0  0.057  255.70  26.94  78.59  52.76     1\n",
      "2      1982   3.0  0.056  258.26  27.35  70.35  48.85     1\n",
      "3      1982   4.0  0.054  260.76  25.28  62.07  43.68     1\n",
      "4      1982   5.0  0.052  262.59  21.87  59.53  40.70     1\n",
      "...     ...   ...    ...     ...    ...    ...    ...   ...\n",
      "59017  2024  48.0  0.100  270.83  57.76  26.51  42.13    27\n",
      "59018  2024  49.0  0.086  268.23  55.83  29.40  42.61    27\n",
      "59019  2024  50.0  0.076  266.10  53.85  28.50  41.18    27\n",
      "59020  2024  51.0  0.068  264.86  53.12  25.29  39.20    27\n",
      "59021  2024  52.0  0.070  265.65  59.34  19.50  39.42    27\n",
      "\n",
      "[54650 rows x 8 columns]\n"
     ]
    }
   ],
   "source": [
    "def read_and_create_data_frame(path):\n",
    "    \n",
    "    out_df = pd.DataFrame()\n",
    "\n",
    "    csv_files = os.listdir('/home/kali/Downloads/csv')\n",
    "\n",
    "    frames = []\n",
    "\n",
    "    headers = ['Year', 'Week', 'SMN', 'SMT', 'VCI', 'TCI', 'VHI', 'empty']\n",
    "\n",
    "\n",
    "    for file in range(len(csv_files)):\n",
    "        file_path = os.path.join(path, csv_files[file])\n",
    "        df = pd.read_csv(file_path , header = 1, names = headers)\n",
    "        \n",
    "        df = df.drop(df.loc[df['VHI'] == -1].index)\n",
    "        df['Year'] = df['Year'].str.replace('<tt><pre>', '')\n",
    "        df = df[~df['Year'].str.contains('</pre></tt>')]\n",
    "        df['area'] = file + 1\n",
    "        df.drop('empty', axis=1, inplace=True)\n",
    "        frames.append(df)\n",
    "    \n",
    "    out_df = pd.concat(frames).drop_duplicates().reset_index(drop=True)\n",
    "    out_df.drop([22, 12])\n",
    "    out_df = out_df.loc[(out_df.area != 12) & (out_df.area != 20)]  \n",
    "    return out_df\n",
    " \n",
    "df = read_and_create_data_frame('/home/kali/Downloads/csv')\n",
    "print(df)"
   ]
  },
  {
   "cell_type": "markdown",
   "id": "5e1e68c0",
   "metadata": {},
   "source": [
    "3. Реалізувати процедуру, яка змінить індекси областей, які використані на порталі NOAA на потрібні."
   ]
  },
  {
   "cell_type": "code",
   "execution_count": 7,
   "id": "1b3ed79c",
   "metadata": {},
   "outputs": [
    {
     "name": "stdout",
     "output_type": "stream",
     "text": [
      "       Year  Week    SMN     SMT    VCI    TCI    VHI      area\n",
      "0      1982   1.0  0.058  254.19  24.78  81.74  53.26  Cherkasy\n",
      "1      1982   2.0  0.057  255.70  26.94  78.59  52.76  Cherkasy\n",
      "2      1982   3.0  0.056  258.26  27.35  70.35  48.85  Cherkasy\n",
      "3      1982   4.0  0.054  260.76  25.28  62.07  43.68  Cherkasy\n",
      "4      1982   5.0  0.052  262.59  21.87  59.53  40.70  Cherkasy\n",
      "...     ...   ...    ...     ...    ...    ...    ...       ...\n",
      "59017  2024  48.0  0.100  270.83  57.76  26.51  42.13  Zhytomyr\n",
      "59018  2024  49.0  0.086  268.23  55.83  29.40  42.61  Zhytomyr\n",
      "59019  2024  50.0  0.076  266.10  53.85  28.50  41.18  Zhytomyr\n",
      "59020  2024  51.0  0.068  264.86  53.12  25.29  39.20  Zhytomyr\n",
      "59021  2024  52.0  0.070  265.65  59.34  19.50  39.42  Zhytomyr\n",
      "\n",
      "[54650 rows x 8 columns]\n"
     ]
    }
   ],
   "source": [
    "def NewIDS(df):\n",
    "    province_indexes = {1: 22, 2: 24, 3: 23, 4: 25, 5: 3, 6: 4, 7: 8, 8: 19, 9: 20, 10: 21, 11: 9, 13: 10, 14: 11, 15: 12, 16: 13, 17: 14, 18: 15, 19: 16, 21: 17, 22: 18, 23: 6, 24: 1, 25: 2, 26: 7, 27: 5}\n",
    "    df.replace({'area':province_indexes}, inplace = True)\n",
    "    df['area'] = df['area'].replace(state_id_name)\n",
    "    return df\n",
    "\n",
    "print(NewIDS(df))"
   ]
  },
  {
   "cell_type": "markdown",
   "id": "54e0218d",
   "metadata": {},
   "source": [
    "4. Реалізувати процедури для формування вибірок наступного виду: Ряд VHI для області за рік, пошук екстремумів (min та max);"
   ]
  },
  {
   "cell_type": "code",
   "execution_count": 8,
   "id": "da0bc9c7",
   "metadata": {},
   "outputs": [
    {
     "name": "stdout",
     "output_type": "stream",
     "text": [
      "Cherkasy, max: 56.28, min:37.65 \n",
      "Chernihiv, max: 81.96, min:40.3 \n",
      "Chernivtsi, max: 78.8, min:37.84 \n",
      "Republic of Crimea, max: 62.81, min:36.56 \n",
      "Dnipropetrovska, max: 53.07, min:32.11 \n",
      "Donetsk, max: 54.81, min:35.7 \n",
      "Ivano-Frankivsk, max: 65.14, min:30.32 \n",
      "Kharkiv, max: 53.83, min:38.47 \n",
      "Kherson, max: 60.93, min:34.83 \n",
      "Khmelnytsky, max: 63.71, min:41.93 \n",
      "Kyiv, max: 56.41, min:37.34 \n",
      "Kirovohrad, max: 64.19, min:33.37 \n",
      "Luhansk, max: 58.87, min:38.86 \n",
      "Lviv, max: 55.41, min:29.62 \n",
      "Mykolaiv, max: 80.55, min:37.74 \n",
      "Odesa, max: 73.98, min:36.45 \n",
      "Poltavska, max: 57.39, min:37.64 \n",
      "Rivne, max: 61.99, min:38.31 \n",
      "Sumy, max: 67.19, min:38.47 \n",
      "Ternopil, max: 61.15, min:38.38 \n",
      "Zakarpattia, max: 63.81, min:30.36 \n",
      "Vinnytsia, max: 61.06, min:39.52 \n",
      "Volyn, max: 70.16, min:39.11 \n",
      "Zaporizhzhya, max: 72.32, min:36.12 \n",
      "Zhytomyr, max: 56.9, min:32.28 \n"
     ]
    }
   ],
   "source": [
    "def find_max_vhi(df, area, year):\n",
    "\n",
    "  filtered_df = df[ (df['area'] == area) & (df['Year'] == year) ]\n",
    "  if filtered_df.empty:\n",
    "    return None  \n",
    "  return filtered_df['VHI'].max()\n",
    "\n",
    "\n",
    "def find_min_vhi(df, area, year):\n",
    "\n",
    "  filtered_df = df[ (df['area'] == area) & (df['Year'] == year) ]\n",
    "  if filtered_df.empty:\n",
    "    return None  \n",
    "  return filtered_df['VHI'].min()\n",
    "\n",
    "def analyze_vhi(df, year):\n",
    "\n",
    "  for area in df['area'].unique():\n",
    "    max_vhi = find_max_vhi(df.copy(), area, year) \n",
    "    min_vhi = find_min_vhi(df.copy(), area, year) \n",
    "    print(f'{area}, max: {max_vhi}, min:{min_vhi} ')\n",
    "\n",
    "analyze_vhi(df, '2022')"
   ]
  },
  {
   "cell_type": "markdown",
   "id": "315b61e9",
   "metadata": {},
   "source": [
    "5. Ряд VHI за вказаний діапазон років для вказаних областей; виявити роки, протягом яких екстремальні посухи торкнулися більше вказаного відсотка областей по Україні (20% областей - 5 областей з 25); Аналогічно для помірних посух"
   ]
  },
  {
   "cell_type": "code",
   "execution_count": 9,
   "id": "98399262",
   "metadata": {},
   "outputs": [
    {
     "name": "stdout",
     "output_type": "stream",
     "text": [
      "Роки, коли екстремальна посуха була в більш ніж 20% областей:\n",
      "2000\n",
      "Роки, коли помірна посуха була в більш ніж 20% областей:\n",
      "1982\n",
      "1983\n",
      "1984\n",
      "1985\n",
      "1986\n",
      "1987\n",
      "1988\n",
      "1989\n",
      "1990\n",
      "1991\n",
      "1992\n",
      "1993\n",
      "1994\n",
      "1995\n",
      "1996\n",
      "1997\n",
      "1998\n",
      "1999\n",
      "2000\n",
      "2001\n",
      "2002\n",
      "2003\n",
      "2005\n",
      "2006\n",
      "2007\n",
      "2008\n",
      "2009\n",
      "2010\n",
      "2011\n",
      "2012\n",
      "2013\n",
      "2014\n",
      "2015\n",
      "2016\n",
      "2017\n",
      "2018\n",
      "2019\n",
      "2020\n",
      "2021\n",
      "2022\n",
      "2023\n",
      "2024\n"
     ]
    }
   ],
   "source": [
    "def drought_years2(df, state_percent, drought_percent_less, drought_percent_more, drought_type):\n",
    "    drought = df[(df.VHI >= drought_percent_less) & (df.VHI <= drought_percent_more)]\n",
    "    state_number = (state_percent / 100) * df['area'].nunique()\n",
    "    yearslist = []\n",
    "\n",
    "    for year in sorted(df['Year'].unique()):\n",
    "        drought_per_year = drought[drought['Year'] == year]\n",
    "        drought_area_number = len(drought_per_year['area'].unique())\n",
    "\n",
    "        if drought_area_number >= state_number:\n",
    "            yearslist.append(year)\n",
    "\n",
    "    if yearslist:\n",
    "        print(f\"Роки, коли {drought_type} посуха була в більш ніж {state_percent}% областей:\")\n",
    "        for year in yearslist:\n",
    "            print(year)\n",
    "    else:\n",
    "        print(f\"Роки, коли {drought_type} посуха була в більш ніж {state_percent}% областей не знайдено.\")\n",
    "\n",
    "# Виклик функції для екстремальної посухи (0 <= VHI <= 15)\n",
    "drought_years2(df, 20, 0, 15, \"екстремальна\")\n",
    "\n",
    "# Виклик функції для помірної посухи (15 <= VHI <= 35)\n",
    "drought_years2(df, 20, 15, 35, \"помірна\")"
   ]
  }
 ],
 "metadata": {
  "kernelspec": {
   "display_name": "Python 3 (ipykernel)",
   "language": "python",
   "name": "python3"
  },
  "language_info": {
   "codemirror_mode": {
    "name": "ipython",
    "version": 3
   },
   "file_extension": ".py",
   "mimetype": "text/x-python",
   "name": "python",
   "nbconvert_exporter": "python",
   "pygments_lexer": "ipython3",
   "version": "3.13.2"
  }
 },
 "nbformat": 4,
 "nbformat_minor": 5
}

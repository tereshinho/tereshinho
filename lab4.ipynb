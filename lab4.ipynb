{
 "cells": [
  {
   "cell_type": "raw",
   "id": "2969cfa5",
   "metadata": {},
   "source": [
    "Лабораторна робота 4\n",
    "\n",
    "Терещенко Микола ФБ-33"
   ]
  },
  {
   "cell_type": "raw",
   "id": "5ad0906c",
   "metadata": {},
   "source": [
    "імпортуємо необхідні бібліотеки"
   ]
  },
  {
   "cell_type": "code",
   "execution_count": 1,
   "id": "01ef3404",
   "metadata": {},
   "outputs": [],
   "source": [
    "import pandas as pd\n",
    "import numpy as np\n",
    "import datetime as dt\n",
    "import timeit as tt"
   ]
  },
  {
   "cell_type": "raw",
   "id": "454c7cd2",
   "metadata": {},
   "source": [
    "створимо масиви для порівняння часу"
   ]
  },
  {
   "cell_type": "code",
   "execution_count": 2,
   "id": "55ac97fd",
   "metadata": {},
   "outputs": [],
   "source": [
    "pandas_time = []\n",
    "numpy_time = []"
   ]
  },
  {
   "cell_type": "raw",
   "id": "2c5959da",
   "metadata": {},
   "source": [
    "Спочатку numpy"
   ]
  },
  {
   "cell_type": "code",
   "execution_count": 3,
   "id": "5be42952",
   "metadata": {},
   "outputs": [
    {
     "name": "stdout",
     "output_type": "stream",
     "text": [
      "[['16/12/2006' '17:24:00' '4.216' ... '0.000' '1.000' 17.0]\n",
      " ['16/12/2006' '17:25:00' '5.360' ... '0.000' '1.000' 16.0]\n",
      " ['16/12/2006' '17:26:00' '5.374' ... '0.000' '2.000' 17.0]\n",
      " ...\n",
      " ['26/11/2010' '21:00:00' '0.938' ... '0.000' '0.000' 0.0]\n",
      " ['26/11/2010' '21:01:00' '0.934' ... '0.000' '0.000' 0.0]\n",
      " ['26/11/2010' '21:02:00' '0.932' ... '0.000' '0.000' 0.0]]\n",
      "1.8806176069999765\n"
     ]
    }
   ],
   "source": [
    "start = tt.default_timer()\n",
    "\n",
    "df = pd.read_csv(\"household_power_consumption.txt\", sep=\";\", low_memory=False)\n",
    "numpy_data = df.to_numpy()\n",
    "\n",
    "print(numpy_data)\n",
    "print(tt.default_timer()-start)"
   ]
  },
  {
   "cell_type": "raw",
   "id": "ff0ad616",
   "metadata": {},
   "source": [
    "data cleaning\n",
    "\n",
    "date converting"
   ]
  },
  {
   "cell_type": "code",
   "execution_count": 4,
   "id": "972f763d",
   "metadata": {},
   "outputs": [],
   "source": [
    "numpy_data = np.delete(numpy_data,np.unique(np.where(numpy_data == '?')[0]),axis=0)\n",
    "\n",
    "\n",
    "for i in range(numpy_data.shape[0]):\n",
    "    right_f = dt.datetime.strptime(numpy_data[i,0],'%d/%m/%Y')\n",
    "    numpy_data[i,0] = np.datetime64(right_f)\n",
    "\n",
    "for i in range(numpy_data.shape[0]):\n",
    "    numpy_data[i,1] = numpy_data[i,1].split(\":\")[0]"
   ]
  },
  {
   "cell_type": "raw",
   "id": "97a9469f",
   "metadata": {},
   "source": [
    "Обрати всі домогосподарства, у яких загальна активна споживана потужність перевищує 5 кВт."
   ]
  },
  {
   "cell_type": "code",
   "execution_count": 5,
   "id": "a6b0c17e",
   "metadata": {},
   "outputs": [
    {
     "name": "stdout",
     "output_type": "stream",
     "text": [
      "0.1872992040000554\n",
      "[[numpy.datetime64('2006-12-16T00:00:00.000000') '17' '5.360' ... '0.000'\n",
      "  '1.000' 16.0]\n",
      " [numpy.datetime64('2006-12-16T00:00:00.000000') '17' '5.374' ... '0.000'\n",
      "  '2.000' 17.0]\n",
      " [numpy.datetime64('2006-12-16T00:00:00.000000') '17' '5.388' ... '0.000'\n",
      "  '1.000' 17.0]\n",
      " ...\n",
      " [numpy.datetime64('2010-11-24T00:00:00.000000') '07' '5.172' ... '0.000'\n",
      "  '38.000' 17.0]\n",
      " [numpy.datetime64('2010-11-24T00:00:00.000000') '07' '5.750' ... '0.000'\n",
      "  '39.000' 17.0]\n",
      " [numpy.datetime64('2010-11-25T00:00:00.000000') '07' '5.074' ... '1.000'\n",
      "  '2.000' 18.0]]\n"
     ]
    }
   ],
   "source": [
    "start = tt.default_timer()\n",
    "\n",
    "households_mt_5kW = numpy_data[numpy_data[:,2].astype(float)>5]\n",
    "\n",
    "numpy_time.append(tt.default_timer()-start)\n",
    "print(tt.default_timer()-start)\n",
    "\n",
    "print(households_mt_5kW)"
   ]
  },
  {
   "cell_type": "raw",
   "id": "2236a389",
   "metadata": {},
   "source": [
    "Обрати всі домогосподарства, у яких вольтаж перевищую 235 В."
   ]
  },
  {
   "cell_type": "code",
   "execution_count": 6,
   "id": "8279687d",
   "metadata": {},
   "outputs": [
    {
     "name": "stdout",
     "output_type": "stream",
     "text": [
      "0.34207768999999644\n",
      "[[numpy.datetime64('2006-12-16T00:00:00.000000') '17' '3.666' ... '0.000'\n",
      "  '1.000' 17.0]\n",
      " [numpy.datetime64('2006-12-16T00:00:00.000000') '17' '3.520' ... '0.000'\n",
      "  '2.000' 17.0]\n",
      " [numpy.datetime64('2006-12-16T00:00:00.000000') '17' '3.702' ... '0.000'\n",
      "  '1.000' 17.0]\n",
      " ...\n",
      " [numpy.datetime64('2010-11-26T00:00:00.000000') '21' '0.938' ... '0.000'\n",
      "  '0.000' 0.0]\n",
      " [numpy.datetime64('2010-11-26T00:00:00.000000') '21' '0.934' ... '0.000'\n",
      "  '0.000' 0.0]\n",
      " [numpy.datetime64('2010-11-26T00:00:00.000000') '21' '0.932' ... '0.000'\n",
      "  '0.000' 0.0]]\n"
     ]
    }
   ],
   "source": [
    "start = tt.default_timer()\n",
    "\n",
    "voltage_mt_235V = numpy_data[numpy_data[:,4].astype('float')>235]\n",
    "\n",
    "numpy_time.append(tt.default_timer()-start)\n",
    "print(tt.default_timer()-start)\n",
    "\n",
    "print(voltage_mt_235V)"
   ]
  },
  {
   "cell_type": "raw",
   "id": "5e43c244",
   "metadata": {},
   "source": [
    "Обрати всі домогосподарства, у яких сила струму лежить в межах 19-20 А, для них виявити ті, у яких пральна машина та холодильних споживають більше, ніж бойлер та кондиціонер."
   ]
  },
  {
   "cell_type": "code",
   "execution_count": 7,
   "id": "443f0039",
   "metadata": {},
   "outputs": [
    {
     "name": "stdout",
     "output_type": "stream",
     "text": [
      "0.6272775509999065\n",
      "[[numpy.datetime64('2006-12-16T00:00:00.000000') '18' '4.928' ... '0.000'\n",
      "  '37.000' 16.0]\n",
      " [numpy.datetime64('2006-12-16T00:00:00.000000') '18' '6.052' ... '0.000'\n",
      "  '37.000' 17.0]\n",
      " [numpy.datetime64('2006-12-16T00:00:00.000000') '18' '6.752' ... '0.000'\n",
      "  '36.000' 17.0]\n",
      " ...\n",
      " [numpy.datetime64('2010-11-26T00:00:00.000000') '20' '0.948' ... '0.000'\n",
      "  '1.000' 0.0]\n",
      " [numpy.datetime64('2010-11-26T00:00:00.000000') '20' '1.198' ... '0.000'\n",
      "  '1.000' 0.0]\n",
      " [numpy.datetime64('2010-11-26T00:00:00.000000') '20' '1.024' ... '0.000'\n",
      "  '1.000' 0.0]]\n"
     ]
    }
   ],
   "source": [
    "start = tt.default_timer()\n",
    "\n",
    "third_cond = numpy_data[(numpy_data[:,5].astype('float')>19) & (numpy_data[:,5].astype('float')<20)]\n",
    "third_cond = numpy_data[numpy_data[:,7].astype('float64')>numpy_data[:,8].astype('float64')]\n",
    "\n",
    "numpy_time.append(tt.default_timer()-start)\n",
    "print(tt.default_timer()-start)\n",
    "\n",
    "print(third_cond)"
   ]
  },
  {
   "cell_type": "raw",
   "id": "c37d125a",
   "metadata": {},
   "source": [
    "Обрати випадковим чином 500000 домогосподарств (без повторів елементів вибірки), для них обчислити середні величини усіх 3-х груп споживання електричної енергії."
   ]
  },
  {
   "cell_type": "code",
   "execution_count": 8,
   "id": "49fb7ca8",
   "metadata": {},
   "outputs": [
    {
     "name": "stdout",
     "output_type": "stream",
     "text": [
      "0.3896945510000478\n",
      "[1.120094 1.28977  6.425454]\n"
     ]
    }
   ],
   "source": [
    "start = tt.default_timer()\n",
    "\n",
    "indexes = np.random.choice(len(numpy_data), size=500000, replace=True, p=None)\n",
    "random = numpy_data[indexes,:]\n",
    "\n",
    "all_groups_info = np.array([random[:,-3].astype('float'),random[:,-2].astype('float'),random[:,-1].astype('float')]).T\n",
    "avg_of_all_groups_info = np.average(all_groups_info, 0)\n",
    "\n",
    "numpy_time.append(tt.default_timer()-start)\n",
    "print(tt.default_timer()-start)\n",
    "\n",
    "print(avg_of_all_groups_info)"
   ]
  },
  {
   "cell_type": "raw",
   "id": "f5ef410f",
   "metadata": {},
   "source": [
    "Обрати ті домогосподарства, які після 18-00 споживають понад 6 кВт за хвилину в середньому, серед відібраних визначити ті, у яких основне споживання електроенергії у вказаний проміжок часу припадає на пральну машину, сушарку, холодильник та освітлення (група 2 є найбільшою), а потім обрати кожен третій результат із першої половини та кожен четвертий результат із другої половини."
   ]
  },
  {
   "cell_type": "code",
   "execution_count": 9,
   "id": "ee27bc3e",
   "metadata": {},
   "outputs": [
    {
     "name": "stdout",
     "output_type": "stream",
     "text": [
      "0.5094688260001021\n",
      "[[numpy.datetime64('2006-12-16T00:00:00.000000') '18' '6.052' ... '0.000'\n",
      "  '37.000' 17.0]\n",
      " [numpy.datetime64('2006-12-16T00:00:00.000000') '18' '6.308' ... '0.000'\n",
      "  '36.000' 17.0]\n",
      " [numpy.datetime64('2006-12-28T00:00:00.000000') '20' '6.386' ... '1.000'\n",
      "  '36.000' 17.0]\n",
      " ...\n",
      " [numpy.datetime64('2008-03-23T00:00:00.000000') '20' '6.668' ... '0.000'\n",
      "  '73.000' 17.0]\n",
      " [numpy.datetime64('2008-04-12T00:00:00.000000') '18' '6.568' ...\n",
      "  '34.000' '36.000' 18.0]\n",
      " [numpy.datetime64('2008-04-20T00:00:00.000000') '21' '8.084' ... '1.000'\n",
      "  '71.000' 18.0]]\n",
      "[[numpy.datetime64('2008-04-20T00:00:00.000000') '21' '7.798' ... '1.000'\n",
      "  '71.000' 17.0]\n",
      " [numpy.datetime64('2008-04-20T00:00:00.000000') '21' '7.452' ... '1.000'\n",
      "  '68.000' 17.0]\n",
      " [numpy.datetime64('2008-04-20T00:00:00.000000') '21' '6.436' ... '1.000'\n",
      "  '37.000' 17.0]\n",
      " ...\n",
      " [numpy.datetime64('2010-11-20T00:00:00.000000') '18' '6.302' ...\n",
      "  '15.000' '34.000' 17.0]\n",
      " [numpy.datetime64('2010-11-20T00:00:00.000000') '18' '6.238' ...\n",
      "  '14.000' '35.000' 16.0]\n",
      " [numpy.datetime64('2010-11-20T00:00:00.000000') '18' '6.438' ...\n",
      "  '13.000' '39.000' 16.0]]\n"
     ]
    }
   ],
   "source": [
    "start = tt.default_timer()\n",
    "\n",
    "mt_18_00 = numpy_data[(numpy_data[:, 1].astype('timedelta64') >= np.timedelta64(18, 'h')) & (numpy_data[:, 2].astype('float64') > 6)]\n",
    "\n",
    "mt_18_002 = mt_18_00[(mt_18_00[:, -2].astype('float') > mt_18_00[:, -3].astype('float')) & \n",
    "                     (mt_18_00[:, -2].astype('float') > mt_18_00[:, -1].astype('float'))]\n",
    "\n",
    "n = len(mt_18_002) // 2\n",
    "res1 = mt_18_002[:n:3]  \n",
    "res2 = mt_18_002[n::4]  \n",
    "\n",
    "numpy_time.append(tt.default_timer() - start)\n",
    "print(tt.default_timer() - start)\n",
    "\n",
    "print(res1)\n",
    "print(res2)"
   ]
  },
  {
   "cell_type": "raw",
   "id": "4c0e98c8",
   "metadata": {},
   "source": [
    "Pandas"
   ]
  },
  {
   "cell_type": "code",
   "execution_count": 10,
   "id": "04c1da05",
   "metadata": {},
   "outputs": [
    {
     "name": "stdout",
     "output_type": "stream",
     "text": [
      "0.11211384500006716\n"
     ]
    },
    {
     "data": {
      "text/html": [
       "<div>\n",
       "<style scoped>\n",
       "    .dataframe tbody tr th:only-of-type {\n",
       "        vertical-align: middle;\n",
       "    }\n",
       "\n",
       "    .dataframe tbody tr th {\n",
       "        vertical-align: top;\n",
       "    }\n",
       "\n",
       "    .dataframe thead th {\n",
       "        text-align: right;\n",
       "    }\n",
       "</style>\n",
       "<table border=\"1\" class=\"dataframe\">\n",
       "  <thead>\n",
       "    <tr style=\"text-align: right;\">\n",
       "      <th></th>\n",
       "      <th>Date</th>\n",
       "      <th>Time</th>\n",
       "      <th>Global_active_power</th>\n",
       "      <th>Global_reactive_power</th>\n",
       "      <th>Voltage</th>\n",
       "      <th>Global_intensity</th>\n",
       "      <th>Sub_metering_1</th>\n",
       "      <th>Sub_metering_2</th>\n",
       "      <th>Sub_metering_3</th>\n",
       "    </tr>\n",
       "  </thead>\n",
       "  <tbody>\n",
       "    <tr>\n",
       "      <th>0</th>\n",
       "      <td>16/12/2006</td>\n",
       "      <td>17:24:00</td>\n",
       "      <td>4.216</td>\n",
       "      <td>0.418</td>\n",
       "      <td>234.840</td>\n",
       "      <td>18.400</td>\n",
       "      <td>0.000</td>\n",
       "      <td>1.000</td>\n",
       "      <td>17.0</td>\n",
       "    </tr>\n",
       "    <tr>\n",
       "      <th>1</th>\n",
       "      <td>16/12/2006</td>\n",
       "      <td>17:25:00</td>\n",
       "      <td>5.360</td>\n",
       "      <td>0.436</td>\n",
       "      <td>233.630</td>\n",
       "      <td>23.000</td>\n",
       "      <td>0.000</td>\n",
       "      <td>1.000</td>\n",
       "      <td>16.0</td>\n",
       "    </tr>\n",
       "    <tr>\n",
       "      <th>2</th>\n",
       "      <td>16/12/2006</td>\n",
       "      <td>17:26:00</td>\n",
       "      <td>5.374</td>\n",
       "      <td>0.498</td>\n",
       "      <td>233.290</td>\n",
       "      <td>23.000</td>\n",
       "      <td>0.000</td>\n",
       "      <td>2.000</td>\n",
       "      <td>17.0</td>\n",
       "    </tr>\n",
       "    <tr>\n",
       "      <th>3</th>\n",
       "      <td>16/12/2006</td>\n",
       "      <td>17:27:00</td>\n",
       "      <td>5.388</td>\n",
       "      <td>0.502</td>\n",
       "      <td>233.740</td>\n",
       "      <td>23.000</td>\n",
       "      <td>0.000</td>\n",
       "      <td>1.000</td>\n",
       "      <td>17.0</td>\n",
       "    </tr>\n",
       "    <tr>\n",
       "      <th>4</th>\n",
       "      <td>16/12/2006</td>\n",
       "      <td>17:28:00</td>\n",
       "      <td>3.666</td>\n",
       "      <td>0.528</td>\n",
       "      <td>235.680</td>\n",
       "      <td>15.800</td>\n",
       "      <td>0.000</td>\n",
       "      <td>1.000</td>\n",
       "      <td>17.0</td>\n",
       "    </tr>\n",
       "  </tbody>\n",
       "</table>\n",
       "</div>"
      ],
      "text/plain": [
       "         Date      Time Global_active_power Global_reactive_power  Voltage  \\\n",
       "0  16/12/2006  17:24:00               4.216                 0.418  234.840   \n",
       "1  16/12/2006  17:25:00               5.360                 0.436  233.630   \n",
       "2  16/12/2006  17:26:00               5.374                 0.498  233.290   \n",
       "3  16/12/2006  17:27:00               5.388                 0.502  233.740   \n",
       "4  16/12/2006  17:28:00               3.666                 0.528  235.680   \n",
       "\n",
       "  Global_intensity Sub_metering_1 Sub_metering_2  Sub_metering_3  \n",
       "0           18.400          0.000          1.000            17.0  \n",
       "1           23.000          0.000          1.000            16.0  \n",
       "2           23.000          0.000          2.000            17.0  \n",
       "3           23.000          0.000          1.000            17.0  \n",
       "4           15.800          0.000          1.000            17.0  "
      ]
     },
     "execution_count": 10,
     "metadata": {},
     "output_type": "execute_result"
    }
   ],
   "source": [
    "start = tt.default_timer()\n",
    "chunk_iter = pd.read_csv(\"household_power_consumption.txt\", sep=\";\", low_memory=False, chunksize=100000)\n",
    "df_chunk = next(chunk_iter)  # перший шматок\n",
    "\n",
    "print(tt.default_timer() - start)\n",
    "\n",
    "df_chunk.head()\n"
   ]
  },
  {
   "cell_type": "raw",
   "id": "e89a8e1e",
   "metadata": {},
   "source": [
    "data cleaning\n",
    "\n",
    "date converting"
   ]
  },
  {
   "cell_type": "code",
   "execution_count": 11,
   "id": "04bb33df",
   "metadata": {},
   "outputs": [
    {
     "name": "stdout",
     "output_type": "stream",
     "text": [
      "6.688205011000036\n"
     ]
    }
   ],
   "source": [
    "start = tt.default_timer()\n",
    "\n",
    "df.drop(df[df.eq('?').any(axis=1)].index, inplace=True)\n",
    "\n",
    "columns = ['Global_active_power', 'Global_reactive_power', 'Voltage', 'Global_intensity', 'Sub_metering_1', 'Sub_metering_2', 'Sub_metering_3']\n",
    "df[columns] = df[columns].astype(float)\n",
    "df['Date'] = pd.to_datetime(df['Date'], format='%d/%m/%Y')\n",
    "df['Time'] = pd.to_datetime(df['Time'], format='%H:%M:%S').dt.time\n",
    "\n",
    "print(tt.default_timer()-start)"
   ]
  },
  {
   "cell_type": "raw",
   "id": "27de4551",
   "metadata": {},
   "source": [
    "Обрати всі домогосподарства, у яких загальна активна споживана потужність перевищує 5 кВт."
   ]
  },
  {
   "cell_type": "code",
   "execution_count": 12,
   "id": "2e20a96d",
   "metadata": {},
   "outputs": [
    {
     "name": "stdout",
     "output_type": "stream",
     "text": [
      "0.008890231999885145\n"
     ]
    },
    {
     "data": {
      "text/html": [
       "<div>\n",
       "<style scoped>\n",
       "    .dataframe tbody tr th:only-of-type {\n",
       "        vertical-align: middle;\n",
       "    }\n",
       "\n",
       "    .dataframe tbody tr th {\n",
       "        vertical-align: top;\n",
       "    }\n",
       "\n",
       "    .dataframe thead th {\n",
       "        text-align: right;\n",
       "    }\n",
       "</style>\n",
       "<table border=\"1\" class=\"dataframe\">\n",
       "  <thead>\n",
       "    <tr style=\"text-align: right;\">\n",
       "      <th></th>\n",
       "      <th>Date</th>\n",
       "      <th>Time</th>\n",
       "      <th>Global_active_power</th>\n",
       "      <th>Global_reactive_power</th>\n",
       "      <th>Voltage</th>\n",
       "      <th>Global_intensity</th>\n",
       "      <th>Sub_metering_1</th>\n",
       "      <th>Sub_metering_2</th>\n",
       "      <th>Sub_metering_3</th>\n",
       "    </tr>\n",
       "  </thead>\n",
       "  <tbody>\n",
       "    <tr>\n",
       "      <th>1</th>\n",
       "      <td>2006-12-16</td>\n",
       "      <td>17:25:00</td>\n",
       "      <td>5.360</td>\n",
       "      <td>0.436</td>\n",
       "      <td>233.63</td>\n",
       "      <td>23.0</td>\n",
       "      <td>0.0</td>\n",
       "      <td>1.0</td>\n",
       "      <td>16.0</td>\n",
       "    </tr>\n",
       "    <tr>\n",
       "      <th>2</th>\n",
       "      <td>2006-12-16</td>\n",
       "      <td>17:26:00</td>\n",
       "      <td>5.374</td>\n",
       "      <td>0.498</td>\n",
       "      <td>233.29</td>\n",
       "      <td>23.0</td>\n",
       "      <td>0.0</td>\n",
       "      <td>2.0</td>\n",
       "      <td>17.0</td>\n",
       "    </tr>\n",
       "    <tr>\n",
       "      <th>3</th>\n",
       "      <td>2006-12-16</td>\n",
       "      <td>17:27:00</td>\n",
       "      <td>5.388</td>\n",
       "      <td>0.502</td>\n",
       "      <td>233.74</td>\n",
       "      <td>23.0</td>\n",
       "      <td>0.0</td>\n",
       "      <td>1.0</td>\n",
       "      <td>17.0</td>\n",
       "    </tr>\n",
       "    <tr>\n",
       "      <th>11</th>\n",
       "      <td>2006-12-16</td>\n",
       "      <td>17:35:00</td>\n",
       "      <td>5.412</td>\n",
       "      <td>0.470</td>\n",
       "      <td>232.78</td>\n",
       "      <td>23.2</td>\n",
       "      <td>0.0</td>\n",
       "      <td>1.0</td>\n",
       "      <td>17.0</td>\n",
       "    </tr>\n",
       "    <tr>\n",
       "      <th>12</th>\n",
       "      <td>2006-12-16</td>\n",
       "      <td>17:36:00</td>\n",
       "      <td>5.224</td>\n",
       "      <td>0.478</td>\n",
       "      <td>232.99</td>\n",
       "      <td>22.4</td>\n",
       "      <td>0.0</td>\n",
       "      <td>1.0</td>\n",
       "      <td>16.0</td>\n",
       "    </tr>\n",
       "  </tbody>\n",
       "</table>\n",
       "</div>"
      ],
      "text/plain": [
       "         Date      Time  Global_active_power  Global_reactive_power  Voltage  \\\n",
       "1  2006-12-16  17:25:00                5.360                  0.436   233.63   \n",
       "2  2006-12-16  17:26:00                5.374                  0.498   233.29   \n",
       "3  2006-12-16  17:27:00                5.388                  0.502   233.74   \n",
       "11 2006-12-16  17:35:00                5.412                  0.470   232.78   \n",
       "12 2006-12-16  17:36:00                5.224                  0.478   232.99   \n",
       "\n",
       "    Global_intensity  Sub_metering_1  Sub_metering_2  Sub_metering_3  \n",
       "1               23.0             0.0             1.0            16.0  \n",
       "2               23.0             0.0             2.0            17.0  \n",
       "3               23.0             0.0             1.0            17.0  \n",
       "11              23.2             0.0             1.0            17.0  \n",
       "12              22.4             0.0             1.0            16.0  "
      ]
     },
     "execution_count": 12,
     "metadata": {},
     "output_type": "execute_result"
    }
   ],
   "source": [
    "start = tt.default_timer()\n",
    "households_mt_5kW = df[df['Global_active_power'] > 5]\n",
    "pandas_time.append(tt.default_timer()-start)\n",
    "print(tt.default_timer()-start)\n",
    "\n",
    "households_mt_5kW.head()"
   ]
  },
  {
   "cell_type": "raw",
   "id": "3e8791cb",
   "metadata": {},
   "source": [
    "Обрати всі домогосподарства, у яких вольтаж перевищую 235 В."
   ]
  },
  {
   "cell_type": "code",
   "execution_count": 13,
   "id": "c2ffc03d",
   "metadata": {},
   "outputs": [
    {
     "name": "stdout",
     "output_type": "stream",
     "text": [
      "0.2248279430000366\n"
     ]
    },
    {
     "data": {
      "text/html": [
       "<div>\n",
       "<style scoped>\n",
       "    .dataframe tbody tr th:only-of-type {\n",
       "        vertical-align: middle;\n",
       "    }\n",
       "\n",
       "    .dataframe tbody tr th {\n",
       "        vertical-align: top;\n",
       "    }\n",
       "\n",
       "    .dataframe thead th {\n",
       "        text-align: right;\n",
       "    }\n",
       "</style>\n",
       "<table border=\"1\" class=\"dataframe\">\n",
       "  <thead>\n",
       "    <tr style=\"text-align: right;\">\n",
       "      <th></th>\n",
       "      <th>Date</th>\n",
       "      <th>Time</th>\n",
       "      <th>Global_active_power</th>\n",
       "      <th>Global_reactive_power</th>\n",
       "      <th>Voltage</th>\n",
       "      <th>Global_intensity</th>\n",
       "      <th>Sub_metering_1</th>\n",
       "      <th>Sub_metering_2</th>\n",
       "      <th>Sub_metering_3</th>\n",
       "    </tr>\n",
       "  </thead>\n",
       "  <tbody>\n",
       "    <tr>\n",
       "      <th>4</th>\n",
       "      <td>2006-12-16</td>\n",
       "      <td>17:28:00</td>\n",
       "      <td>3.666</td>\n",
       "      <td>0.528</td>\n",
       "      <td>235.68</td>\n",
       "      <td>15.8</td>\n",
       "      <td>0.0</td>\n",
       "      <td>1.0</td>\n",
       "      <td>17.0</td>\n",
       "    </tr>\n",
       "    <tr>\n",
       "      <th>5</th>\n",
       "      <td>2006-12-16</td>\n",
       "      <td>17:29:00</td>\n",
       "      <td>3.520</td>\n",
       "      <td>0.522</td>\n",
       "      <td>235.02</td>\n",
       "      <td>15.0</td>\n",
       "      <td>0.0</td>\n",
       "      <td>2.0</td>\n",
       "      <td>17.0</td>\n",
       "    </tr>\n",
       "    <tr>\n",
       "      <th>6</th>\n",
       "      <td>2006-12-16</td>\n",
       "      <td>17:30:00</td>\n",
       "      <td>3.702</td>\n",
       "      <td>0.520</td>\n",
       "      <td>235.09</td>\n",
       "      <td>15.8</td>\n",
       "      <td>0.0</td>\n",
       "      <td>1.0</td>\n",
       "      <td>17.0</td>\n",
       "    </tr>\n",
       "    <tr>\n",
       "      <th>7</th>\n",
       "      <td>2006-12-16</td>\n",
       "      <td>17:31:00</td>\n",
       "      <td>3.700</td>\n",
       "      <td>0.520</td>\n",
       "      <td>235.22</td>\n",
       "      <td>15.8</td>\n",
       "      <td>0.0</td>\n",
       "      <td>1.0</td>\n",
       "      <td>17.0</td>\n",
       "    </tr>\n",
       "    <tr>\n",
       "      <th>14</th>\n",
       "      <td>2006-12-16</td>\n",
       "      <td>17:38:00</td>\n",
       "      <td>4.054</td>\n",
       "      <td>0.422</td>\n",
       "      <td>235.24</td>\n",
       "      <td>17.6</td>\n",
       "      <td>0.0</td>\n",
       "      <td>1.0</td>\n",
       "      <td>17.0</td>\n",
       "    </tr>\n",
       "  </tbody>\n",
       "</table>\n",
       "</div>"
      ],
      "text/plain": [
       "         Date      Time  Global_active_power  Global_reactive_power  Voltage  \\\n",
       "4  2006-12-16  17:28:00                3.666                  0.528   235.68   \n",
       "5  2006-12-16  17:29:00                3.520                  0.522   235.02   \n",
       "6  2006-12-16  17:30:00                3.702                  0.520   235.09   \n",
       "7  2006-12-16  17:31:00                3.700                  0.520   235.22   \n",
       "14 2006-12-16  17:38:00                4.054                  0.422   235.24   \n",
       "\n",
       "    Global_intensity  Sub_metering_1  Sub_metering_2  Sub_metering_3  \n",
       "4               15.8             0.0             1.0            17.0  \n",
       "5               15.0             0.0             2.0            17.0  \n",
       "6               15.8             0.0             1.0            17.0  \n",
       "7               15.8             0.0             1.0            17.0  \n",
       "14              17.6             0.0             1.0            17.0  "
      ]
     },
     "execution_count": 13,
     "metadata": {},
     "output_type": "execute_result"
    }
   ],
   "source": [
    "start = tt.default_timer()\n",
    "voltage_mt_235V = df[df['Voltage'] > 235]\n",
    "pandas_time.append(tt.default_timer()-start)\n",
    "print(tt.default_timer()-start)\n",
    "\n",
    "voltage_mt_235V.head()"
   ]
  },
  {
   "cell_type": "raw",
   "id": "15ef41fe",
   "metadata": {},
   "source": [
    "Обрати всі домогосподарства, у яких сила струму лежить в межах 19-20 А, для них виявити ті, у яких пральна машина та холодильних споживають більше, ніж бойлер та кондиціонер."
   ]
  },
  {
   "cell_type": "code",
   "execution_count": 14,
   "id": "fe831356",
   "metadata": {},
   "outputs": [
    {
     "name": "stdout",
     "output_type": "stream",
     "text": [
      "0.028627814999936163\n"
     ]
    },
    {
     "data": {
      "text/html": [
       "<div>\n",
       "<style scoped>\n",
       "    .dataframe tbody tr th:only-of-type {\n",
       "        vertical-align: middle;\n",
       "    }\n",
       "\n",
       "    .dataframe tbody tr th {\n",
       "        vertical-align: top;\n",
       "    }\n",
       "\n",
       "    .dataframe thead th {\n",
       "        text-align: right;\n",
       "    }\n",
       "</style>\n",
       "<table border=\"1\" class=\"dataframe\">\n",
       "  <thead>\n",
       "    <tr style=\"text-align: right;\">\n",
       "      <th></th>\n",
       "      <th>Date</th>\n",
       "      <th>Time</th>\n",
       "      <th>Global_active_power</th>\n",
       "      <th>Global_reactive_power</th>\n",
       "      <th>Voltage</th>\n",
       "      <th>Global_intensity</th>\n",
       "      <th>Sub_metering_1</th>\n",
       "      <th>Sub_metering_2</th>\n",
       "      <th>Sub_metering_3</th>\n",
       "    </tr>\n",
       "  </thead>\n",
       "  <tbody>\n",
       "    <tr>\n",
       "      <th>45</th>\n",
       "      <td>2006-12-16</td>\n",
       "      <td>18:09:00</td>\n",
       "      <td>4.464</td>\n",
       "      <td>0.136</td>\n",
       "      <td>234.66</td>\n",
       "      <td>19.0</td>\n",
       "      <td>0.0</td>\n",
       "      <td>37.0</td>\n",
       "      <td>16.0</td>\n",
       "    </tr>\n",
       "    <tr>\n",
       "      <th>460</th>\n",
       "      <td>2006-12-17</td>\n",
       "      <td>01:04:00</td>\n",
       "      <td>4.582</td>\n",
       "      <td>0.258</td>\n",
       "      <td>238.08</td>\n",
       "      <td>19.6</td>\n",
       "      <td>0.0</td>\n",
       "      <td>13.0</td>\n",
       "      <td>0.0</td>\n",
       "    </tr>\n",
       "    <tr>\n",
       "      <th>464</th>\n",
       "      <td>2006-12-17</td>\n",
       "      <td>01:08:00</td>\n",
       "      <td>4.618</td>\n",
       "      <td>0.104</td>\n",
       "      <td>239.61</td>\n",
       "      <td>19.6</td>\n",
       "      <td>0.0</td>\n",
       "      <td>27.0</td>\n",
       "      <td>0.0</td>\n",
       "    </tr>\n",
       "    <tr>\n",
       "      <th>475</th>\n",
       "      <td>2006-12-17</td>\n",
       "      <td>01:19:00</td>\n",
       "      <td>4.636</td>\n",
       "      <td>0.140</td>\n",
       "      <td>237.37</td>\n",
       "      <td>19.4</td>\n",
       "      <td>0.0</td>\n",
       "      <td>36.0</td>\n",
       "      <td>0.0</td>\n",
       "    </tr>\n",
       "    <tr>\n",
       "      <th>476</th>\n",
       "      <td>2006-12-17</td>\n",
       "      <td>01:20:00</td>\n",
       "      <td>4.634</td>\n",
       "      <td>0.152</td>\n",
       "      <td>237.17</td>\n",
       "      <td>19.4</td>\n",
       "      <td>0.0</td>\n",
       "      <td>35.0</td>\n",
       "      <td>0.0</td>\n",
       "    </tr>\n",
       "  </tbody>\n",
       "</table>\n",
       "</div>"
      ],
      "text/plain": [
       "          Date      Time  Global_active_power  Global_reactive_power  Voltage  \\\n",
       "45  2006-12-16  18:09:00                4.464                  0.136   234.66   \n",
       "460 2006-12-17  01:04:00                4.582                  0.258   238.08   \n",
       "464 2006-12-17  01:08:00                4.618                  0.104   239.61   \n",
       "475 2006-12-17  01:19:00                4.636                  0.140   237.37   \n",
       "476 2006-12-17  01:20:00                4.634                  0.152   237.17   \n",
       "\n",
       "     Global_intensity  Sub_metering_1  Sub_metering_2  Sub_metering_3  \n",
       "45               19.0             0.0            37.0            16.0  \n",
       "460              19.6             0.0            13.0             0.0  \n",
       "464              19.6             0.0            27.0             0.0  \n",
       "475              19.4             0.0            36.0             0.0  \n",
       "476              19.4             0.0            35.0             0.0  "
      ]
     },
     "execution_count": 14,
     "metadata": {},
     "output_type": "execute_result"
    }
   ],
   "source": [
    "start = tt.default_timer()\n",
    "third_cond = df[(df['Global_intensity'] >= 19) & (df['Global_intensity'] <= 20)]\n",
    "third_cond = third_cond[third_cond['Sub_metering_2'] > third_cond['Sub_metering_3']]\n",
    "pandas_time.append(tt.default_timer()-start)\n",
    "print(tt.default_timer()-start)\n",
    "\n",
    "third_cond.head()"
   ]
  },
  {
   "cell_type": "raw",
   "id": "81a2f124",
   "metadata": {},
   "source": [
    "Обрати випадковим чином 500000 домогосподарств (без повторів елементів вибірки), для них обчислити середні величини усіх 3-х груп споживання електричної енергії"
   ]
  },
  {
   "cell_type": "code",
   "execution_count": 15,
   "id": "928d3d41",
   "metadata": {},
   "outputs": [
    {
     "name": "stdout",
     "output_type": "stream",
     "text": [
      "0.15319409699986863\n",
      "AVG electricity consumption for sub_metering_1 = 1.12349\n",
      "AVG electricity consumption for sub_metering_2 = 1.304238\n",
      "AVG electricity consumption for sub_metering_3 = 6.453184\n"
     ]
    }
   ],
   "source": [
    "start = tt.default_timer()\n",
    "\n",
    "random_households = df.sample(n=500000, replace=True)\n",
    "\n",
    "sub_1 = random_households['Sub_metering_1'].mean()\n",
    "sub_2 = random_households['Sub_metering_2'].mean()\n",
    "sub_3 = random_households['Sub_metering_3'].mean()\n",
    "\n",
    "pandas_time.append(tt.default_timer()-start)\n",
    "print(tt.default_timer()-start)\n",
    "\n",
    "print(\"AVG electricity consumption for sub_metering_1 =\", sub_1)\n",
    "print(\"AVG electricity consumption for sub_metering_2 =\", sub_2)\n",
    "print(\"AVG electricity consumption for sub_metering_3 =\", sub_3)"
   ]
  },
  {
   "cell_type": "raw",
   "id": "cfdddfee",
   "metadata": {},
   "source": [
    "Обрати ті домогосподарства, які після 18-00 споживають понад 6 кВт за хвилину в середньому, серед відібраних визначити ті, у яких основне споживання електроенергії у вказаний проміжок часу припадає на пральну машину, сушарку, холодильник та освітлення (група 2 є найбільшою), а потім обрати кожен третій результат із першої половини та кожен четвертий результат із другої половини."
   ]
  },
  {
   "cell_type": "code",
   "execution_count": 16,
   "id": "df56e414",
   "metadata": {},
   "outputs": [
    {
     "name": "stdout",
     "output_type": "stream",
     "text": [
      "0.11711991800007127\n"
     ]
    },
    {
     "data": {
      "text/html": [
       "<div>\n",
       "<style scoped>\n",
       "    .dataframe tbody tr th:only-of-type {\n",
       "        vertical-align: middle;\n",
       "    }\n",
       "\n",
       "    .dataframe tbody tr th {\n",
       "        vertical-align: top;\n",
       "    }\n",
       "\n",
       "    .dataframe thead th {\n",
       "        text-align: right;\n",
       "    }\n",
       "</style>\n",
       "<table border=\"1\" class=\"dataframe\">\n",
       "  <thead>\n",
       "    <tr style=\"text-align: right;\">\n",
       "      <th></th>\n",
       "      <th>Date</th>\n",
       "      <th>Time</th>\n",
       "      <th>Global_active_power</th>\n",
       "      <th>Global_reactive_power</th>\n",
       "      <th>Voltage</th>\n",
       "      <th>Global_intensity</th>\n",
       "      <th>Sub_metering_1</th>\n",
       "      <th>Sub_metering_2</th>\n",
       "      <th>Sub_metering_3</th>\n",
       "    </tr>\n",
       "  </thead>\n",
       "  <tbody>\n",
       "    <tr>\n",
       "      <th>43</th>\n",
       "      <td>2006-12-16</td>\n",
       "      <td>18:07:00</td>\n",
       "      <td>6.474</td>\n",
       "      <td>0.144</td>\n",
       "      <td>231.85</td>\n",
       "      <td>27.8</td>\n",
       "      <td>0.0</td>\n",
       "      <td>37.0</td>\n",
       "      <td>16.0</td>\n",
       "    </tr>\n",
       "    <tr>\n",
       "      <th>3007</th>\n",
       "      <td>2006-12-18</td>\n",
       "      <td>19:31:00</td>\n",
       "      <td>6.158</td>\n",
       "      <td>0.442</td>\n",
       "      <td>229.08</td>\n",
       "      <td>27.0</td>\n",
       "      <td>0.0</td>\n",
       "      <td>36.0</td>\n",
       "      <td>0.0</td>\n",
       "    </tr>\n",
       "    <tr>\n",
       "      <th>17497</th>\n",
       "      <td>2006-12-28</td>\n",
       "      <td>21:01:00</td>\n",
       "      <td>7.062</td>\n",
       "      <td>0.270</td>\n",
       "      <td>235.76</td>\n",
       "      <td>30.2</td>\n",
       "      <td>2.0</td>\n",
       "      <td>65.0</td>\n",
       "      <td>17.0</td>\n",
       "    </tr>\n",
       "    <tr>\n",
       "      <th>17500</th>\n",
       "      <td>2006-12-28</td>\n",
       "      <td>21:04:00</td>\n",
       "      <td>7.376</td>\n",
       "      <td>0.238</td>\n",
       "      <td>234.67</td>\n",
       "      <td>31.4</td>\n",
       "      <td>1.0</td>\n",
       "      <td>72.0</td>\n",
       "      <td>17.0</td>\n",
       "    </tr>\n",
       "    <tr>\n",
       "      <th>17503</th>\n",
       "      <td>2006-12-28</td>\n",
       "      <td>21:07:00</td>\n",
       "      <td>7.248</td>\n",
       "      <td>0.000</td>\n",
       "      <td>235.34</td>\n",
       "      <td>30.8</td>\n",
       "      <td>1.0</td>\n",
       "      <td>72.0</td>\n",
       "      <td>17.0</td>\n",
       "    </tr>\n",
       "  </tbody>\n",
       "</table>\n",
       "</div>"
      ],
      "text/plain": [
       "            Date      Time  Global_active_power  Global_reactive_power  \\\n",
       "43    2006-12-16  18:07:00                6.474                  0.144   \n",
       "3007  2006-12-18  19:31:00                6.158                  0.442   \n",
       "17497 2006-12-28  21:01:00                7.062                  0.270   \n",
       "17500 2006-12-28  21:04:00                7.376                  0.238   \n",
       "17503 2006-12-28  21:07:00                7.248                  0.000   \n",
       "\n",
       "       Voltage  Global_intensity  Sub_metering_1  Sub_metering_2  \\\n",
       "43      231.85              27.8             0.0            37.0   \n",
       "3007    229.08              27.0             0.0            36.0   \n",
       "17497   235.76              30.2             2.0            65.0   \n",
       "17500   234.67              31.4             1.0            72.0   \n",
       "17503   235.34              30.8             1.0            72.0   \n",
       "\n",
       "       Sub_metering_3  \n",
       "43               16.0  \n",
       "3007              0.0  \n",
       "17497            17.0  \n",
       "17500            17.0  \n",
       "17503            17.0  "
      ]
     },
     "execution_count": 16,
     "metadata": {},
     "output_type": "execute_result"
    }
   ],
   "source": [
    "start = tt.default_timer()\n",
    "\n",
    "process_df = df[(df['Time'] > pd.to_datetime('18:00:00').time()) & (df['Global_active_power'] > 6)]\n",
    "\n",
    "process_df = process_df[(process_df['Sub_metering_2'] > process_df['Sub_metering_1']) & (process_df['Sub_metering_2'] > process_df['Sub_metering_3'])]\n",
    "\n",
    "first_half = process_df.iloc[:len(process_df) // 2].iloc[2::3]\n",
    "second_half = process_df.iloc[len(process_df) // 2:].iloc[3::4]\n",
    "\n",
    "res = pd.concat([first_half, second_half])\n",
    "\n",
    "pandas_time.append(tt.default_timer()-start)\n",
    "print(tt.default_timer()-start)\n",
    "\n",
    "res.head()"
   ]
  },
  {
   "cell_type": "code",
   "execution_count": 17,
   "id": "4b786e4d",
   "metadata": {},
   "outputs": [
    {
     "name": "stdout",
     "output_type": "stream",
     "text": [
      "[0.18727284500005226, 0.342051309999988, 0.6272534259999247, 0.3896745639999608, 0.5094392099999823]\n",
      "[0.008864563999850361, 0.2248020849999648, 0.028597908999927313, 0.15317107400005625, 0.11709766600006333]\n"
     ]
    }
   ],
   "source": [
    "print(numpy_time)\n",
    "print(pandas_time)"
   ]
  }
 ],
 "metadata": {
  "kernelspec": {
   "display_name": "Python 3 (ipykernel)",
   "language": "python",
   "name": "python3"
  },
  "language_info": {
   "codemirror_mode": {
    "name": "ipython",
    "version": 3
   },
   "file_extension": ".py",
   "mimetype": "text/x-python",
   "name": "python",
   "nbconvert_exporter": "python",
   "pygments_lexer": "ipython3",
   "version": "3.13.2"
  }
 },
 "nbformat": 4,
 "nbformat_minor": 5
}
